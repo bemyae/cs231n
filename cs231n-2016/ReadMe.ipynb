{
 "cells": [
  {
   "cell_type": "markdown",
   "metadata": {},
   "source": [
    "# “用于视觉识别的卷积神经网络”笔记\n",
    "\n",
    "## 简介\n",
    "\n",
    "**作者：子实**\n",
    "\n",
    "CS231n Convolutional Neural Networks for Visual Recognition 作业，使用 `jupyter notebook` 完成。\n",
    "\n",
    "`Github` 加载 `.ipynb` 的速度较慢，建议在 [Nbviewer](http://nbviewer.jupyter.org/github/zlotus/cs231n/blob/master/ReadMe.ipynb?flush_cache=true) 中查看。\n",
    "\n",
    "----\n",
    "\n",
    "## 目录\n",
    "\n",
    "来自斯坦福网络课程“CS231n Convolutional Neural Networks for Visual Recognition”的作业：\n",
    "* 原文笔记：[CS231n: Convolutional Neural Networks for Visual Recognition](http://cs231n.github.io/) \n",
    "* 授课视频：[CS231n Winter 2016](https://www.youtube.com/playlist?list=PLkt2uSq6rBVctENoVBg1TpCC7OQi31AlC) \n",
    "\n",
    "\n",
    "### 1. [Assignment 1](http://cs231n.github.io/assignments2016/assignment1/)\n",
    "  * [k-Nearest Neighbor classifier](assignment1/knn.ipynb)\n",
    "  * [Training a Support Vector Machine](assignment1/svm.ipynb)\n",
    "  * [Implement a Softmax classifier](assignment1/softmax.ipynb)\n",
    "  * [Two-Layer Neural Network](assignment1/two_layer_net.ipynb)\n",
    "  * [Higher Level Representations: Image Features](assignment1/features.ipynb)\n",
    "\n",
    "### 2. [Assignment 2](http://cs231n.github.io/assignments2016/assignment2/)\n",
    "  * [Fully-connected Neural Network](assignment2/FullyConnectedNets.ipynb)\n",
    "  * [Batch Normalization](assignment2/BatchNormalization.ipynb)\n",
    "  * [Dropout](assignment2/Dropout.ipynb)\n",
    "  * [ConvNet on CIFAR-10](assignment2/ConvolutionalNetworks.ipynb)\n",
    "\n",
    "### 3. [Assignment 3](http://cs231n.github.io/assignments2016/assignment3/)\n",
    "  * [Image Captioning with Vanilla RNNs](assignment3/RNN_Captioning.ipynb)\n",
    "  * [Image Captioning with LSTMs](assignment3/LSTM_Captioning.ipynb)\n",
    "  * [Image Gradients: Saliency maps and Fooling Images](assignment3/ImageGradients.ipynb)\n",
    "  * [Image Generation: Classes, Inversion, DeepDream](assignment3/ImageGeneration.ipynb)\n"
   ]
  }
 ],
 "metadata": {
  "anaconda-cloud": {},
  "kernelspec": {
   "display_name": "Python [conda env:tensorflow]",
   "language": "python",
   "name": "conda-env-tensorflow-py"
  },
  "language_info": {
   "codemirror_mode": {
    "name": "ipython",
    "version": 3
   },
   "file_extension": ".py",
   "mimetype": "text/x-python",
   "name": "python",
   "nbconvert_exporter": "python",
   "pygments_lexer": "ipython3",
   "version": "3.5.2"
  }
 },
 "nbformat": 4,
 "nbformat_minor": 0
}
